{
 "cells": [
  {
   "cell_type": "markdown",
   "metadata": {},
   "source": [
    "# Models Training 2\n",
    "In this notebook we are using ngrams when encoding words using BoW or Tfidf, to try to retain some context for a better classification"
   ]
  },
  {
   "cell_type": "markdown",
   "metadata": {},
   "source": [
    "## Imports"
   ]
  },
  {
   "cell_type": "code",
   "execution_count": 2,
   "metadata": {},
   "outputs": [
    {
     "data": {
      "text/plain": [
       "<module 'helpers' from 'c:\\\\Development\\\\_repos\\\\Ironhack\\\\Projects\\\\ik-p3-nlp\\\\helpers.py'>"
      ]
     },
     "execution_count": 2,
     "metadata": {},
     "output_type": "execute_result"
    }
   ],
   "source": [
    "import numpy as np\n",
    "import pandas as pd\n",
    "from sklearn.feature_extraction.text import TfidfVectorizer\n",
    "from textblob.classifiers import NaiveBayesClassifier\n",
    "from sklearn.feature_extraction.text import CountVectorizer\n",
    "from sklearn.naive_bayes import MultinomialNB\n",
    "from sklearn.feature_extraction.text import TfidfVectorizer\n",
    "from sklearn.metrics import accuracy_score, classification_report\n",
    "\n",
    "# import custom helper module\n",
    "import importlib\n",
    "import helpers\n",
    "importlib.reload(helpers)\n"
   ]
  },
  {
   "cell_type": "markdown",
   "metadata": {},
   "source": [
    "## Load preprocessed dataset"
   ]
  },
  {
   "cell_type": "code",
   "execution_count": 3,
   "metadata": {},
   "outputs": [
    {
     "name": "stdout",
     "output_type": "stream",
     "text": [
      "No pickle file found. Loading and cleaning dataset.\n"
     ]
    },
    {
     "name": "stderr",
     "output_type": "stream",
     "text": [
      "100%|██████████| 14924/14924 [00:00<00:00, 34073.12it/s]\n",
      "100%|██████████| 14924/14924 [00:06<00:00, 2269.47it/s]"
     ]
    },
    {
     "name": "stdout",
     "output_type": "stream",
     "text": [
      "----------------------------------------------------------------------------------------------------\n",
      "[1203] golpe mina cayó valor después encuesta frente dólar dólares nivel bajo marzo frente euro ahora probable cuentan respuestas campaña --> 0\n",
      "----------------------------------------------------------------------------------------------------\n"
     ]
    },
    {
     "name": "stderr",
     "output_type": "stream",
     "text": [
      "\n"
     ]
    }
   ],
   "source": [
    "X_train, X_test, y_train, y_test = helpers.load_dataset(\"TRAINING_DATA.txt\")\n",
    "\n",
    "# print message\n",
    "helpers.print_text(X_train, y_train)\n"
   ]
  },
  {
   "cell_type": "markdown",
   "metadata": {},
   "source": [
    "## MultinomialNB using BoW and Ngrams"
   ]
  },
  {
   "cell_type": "code",
   "execution_count": 45,
   "metadata": {},
   "outputs": [
    {
     "name": "stdout",
     "output_type": "stream",
     "text": [
      "Accuracy: 0.497\n",
      "Classificatoin Report:\n",
      "               precision    recall  f1-score   support\n",
      "\n",
      "           0       0.50      0.93      0.65      2240\n",
      "           1       0.47      0.06      0.11      2238\n",
      "\n",
      "    accuracy                           0.50      4478\n",
      "   macro avg       0.49      0.50      0.38      4478\n",
      "weighted avg       0.49      0.50      0.38      4478\n",
      "\n"
     ]
    }
   ],
   "source": [
    "# Initialize CountVectorizer\n",
    "ngrange = (2, 5)\n",
    "max_feat = 50\n",
    "vectorizer = CountVectorizer(ngram_range=ngrange, max_features=max_feat)\n",
    "\n",
    "# fit and transform messages\n",
    "X_train_bow = vectorizer.fit_transform(X_train)\n",
    "X_test_bow = vectorizer.transform(X_test)\n",
    "\n",
    "# Initialize the Multinomial Naive Bayes model\n",
    "nb_classifier = MultinomialNB()\n",
    "\n",
    "# Train the model on vectorized data\n",
    "nb_classifier.fit(X_train_bow, y_train)\n",
    "\n",
    "# Predict labels on the test set\n",
    "y_pred = nb_classifier.predict(X_test_bow)\n",
    "\n",
    "# Evaluate the model\n",
    "accuracy = accuracy_score(y_test, y_pred)\n",
    "print(f\"Accuracy: {accuracy:.3f}\")\n",
    "\n",
    "# Print classification report\n",
    "print(\"Classificatoin Report:\\n\", classification_report(y_test, y_pred))\n"
   ]
  },
  {
   "cell_type": "markdown",
   "metadata": {},
   "source": [
    "## MultinomialNB using TF-idf and Ngrams"
   ]
  },
  {
   "cell_type": "code",
   "execution_count": 47,
   "metadata": {},
   "outputs": [
    {
     "name": "stdout",
     "output_type": "stream",
     "text": [
      "Accuracy: 0.497\n",
      "Classificatoin Report:\n",
      "               precision    recall  f1-score   support\n",
      "\n",
      "           0       0.50      0.93      0.65      2240\n",
      "           1       0.47      0.06      0.11      2238\n",
      "\n",
      "    accuracy                           0.50      4478\n",
      "   macro avg       0.49      0.50      0.38      4478\n",
      "weighted avg       0.49      0.50      0.38      4478\n",
      "\n"
     ]
    }
   ],
   "source": [
    "# Initialise Tfidf vectorizer\n",
    "tfidf_vectorizer = TfidfVectorizer(min_df = 1, ngram_range=ngrange, max_features=max_feat)\n",
    "\n",
    "# fit vectorizer on train data, then apply it to test data\n",
    "X_train_tfidf = tfidf_vectorizer.fit_transform(X_train).toarray()\n",
    "X_test_tfidf = tfidf_vectorizer.transform(X_test).toarray()\n",
    "\n",
    "# Initialize the Multinomial Naive Bayes model\n",
    "tfidf_nb_classifier = MultinomialNB()\n",
    "\n",
    "# Train the model on vectorized data\n",
    "tfidf_nb_classifier.fit(X_train_tfidf, y_train)\n",
    "\n",
    "# Predict labels on the test set\n",
    "y_pred = tfidf_nb_classifier.predict(X_test_tfidf)\n",
    "\n",
    "# Evaluate the model\n",
    "accuracy = accuracy_score(y_test, y_pred)\n",
    "print(f\"Accuracy: {accuracy:.3f}\")\n",
    "\n",
    "# Print classification report\n",
    "print(\"Classificatoin Report:\\n\", classification_report(y_test, y_pred))\n",
    "\n"
   ]
  },
  {
   "cell_type": "markdown",
   "metadata": {},
   "source": [
    "## RandomForrest using Tf-idf"
   ]
  },
  {
   "cell_type": "code",
   "execution_count": 48,
   "metadata": {},
   "outputs": [
    {
     "name": "stdout",
     "output_type": "stream",
     "text": [
      "Random Forest Accuracy: 50.40%\n",
      "              precision    recall  f1-score   support\n",
      "\n",
      "           0       0.53      0.07      0.13      2240\n",
      "           1       0.50      0.93      0.65      2238\n",
      "\n",
      "    accuracy                           0.50      4478\n",
      "   macro avg       0.52      0.50      0.39      4478\n",
      "weighted avg       0.52      0.50      0.39      4478\n",
      "\n"
     ]
    }
   ],
   "source": [
    "# Try Random Forest Classifier\n",
    "from sklearn.ensemble import RandomForestClassifier\n",
    "\n",
    "# Initialize Random Forest\n",
    "rf_classifier = RandomForestClassifier(n_estimators=100, random_state=42)\n",
    "\n",
    "# Train the classifier\n",
    "rf_classifier.fit(X_train_tfidf, y_train)\n",
    "\n",
    "# Predict on the test data\n",
    "y_pred_rf = rf_classifier.predict(X_test_tfidf)\n",
    "\n",
    "# Evaluate accuracy\n",
    "accuracy_rf = accuracy_score(y_test, y_pred_rf)\n",
    "print(f\"Random Forest Accuracy: {accuracy_rf * 100:.2f}%\")\n",
    "print(classification_report(y_test, y_pred_rf))"
   ]
  },
  {
   "cell_type": "markdown",
   "metadata": {},
   "source": [
    "## K-Means with 2 clusters"
   ]
  },
  {
   "cell_type": "code",
   "execution_count": 49,
   "metadata": {},
   "outputs": [
    {
     "name": "stderr",
     "output_type": "stream",
     "text": [
      "/usr/local/lib/python3.11/dist-packages/sklearn/cluster/_kmeans.py:1412: FutureWarning: The default value of `n_init` will change from 10 to 'auto' in 1.4. Set the value of `n_init` explicitly to suppress the warning\n",
      "  super()._check_params_vs_input(X, default_n_init=10)\n"
     ]
    },
    {
     "name": "stdout",
     "output_type": "stream",
     "text": [
      "K-Means Accuracy: 49.98%\n",
      "K-Means Classification Report:\n",
      "              precision    recall  f1-score   support\n",
      "\n",
      "           0       0.50      0.99      0.66      2240\n",
      "           1       0.48      0.01      0.02      2238\n",
      "\n",
      "    accuracy                           0.50      4478\n",
      "   macro avg       0.49      0.50      0.34      4478\n",
      "weighted avg       0.49      0.50      0.34      4478\n",
      "\n"
     ]
    }
   ],
   "source": [
    "# Try K-Means\n",
    "from sklearn.cluster import KMeans\n",
    "\n",
    "# Initialize K-Means\n",
    "kmeans = KMeans(n_clusters=2,random_state=100)\n",
    "\n",
    "# Train the classifier\n",
    "kmeans.fit(X_train_tfidf)\n",
    "\n",
    "# Predict on the test data\n",
    "y_pred_k = kmeans.predict(X_test_tfidf)\n",
    "\n",
    "# Evaluate accuracy\n",
    "accuracy_k = accuracy_score(y_test, y_pred_k)\n",
    "print(f\"K-Means Accuracy: {accuracy_k * 100:.2f}%\")\n",
    "print(\"K-Means Classification Report:\")\n",
    "print(classification_report(y_test, y_pred_k))"
   ]
  },
  {
   "cell_type": "markdown",
   "metadata": {},
   "source": [
    "## K-Nearest Neighbors"
   ]
  },
  {
   "cell_type": "code",
   "execution_count": 50,
   "metadata": {},
   "outputs": [
    {
     "name": "stdout",
     "output_type": "stream",
     "text": [
      "K-Means Accuracy: 49.55%\n",
      "K-Means Classification Report:\n",
      "              precision    recall  f1-score   support\n",
      "\n",
      "           0       0.50      0.92      0.65      2240\n",
      "           1       0.47      0.07      0.13      2238\n",
      "\n",
      "    accuracy                           0.50      4478\n",
      "   macro avg       0.48      0.50      0.39      4478\n",
      "weighted avg       0.48      0.50      0.39      4478\n",
      "\n"
     ]
    }
   ],
   "source": [
    "from sklearn.neighbors import KNeighborsClassifier\n",
    "\n",
    "knn = KNeighborsClassifier()\n",
    "\n",
    "# Train the Classifier\n",
    "knn.fit(X_train_tfidf, y_train)\n",
    "\n",
    "# Predict on the test data\n",
    "y_pred_knn = knn.predict(X_test_tfidf)\n",
    "\n",
    "# Evaluate accuracy\n",
    "accuracy_knn = accuracy_score(y_test, y_pred_knn)\n",
    "print(f\"K-Means Accuracy: {accuracy_knn * 100:.2f}%\")\n",
    "print(\"K-Means Classification Report:\")\n",
    "print(classification_report(y_test, y_pred_knn))"
   ]
  }
 ],
 "metadata": {
  "kernelspec": {
   "display_name": "Python 3 (ipykernel)",
   "language": "python",
   "name": "python3"
  },
  "language_info": {
   "codemirror_mode": {
    "name": "ipython",
    "version": 3
   },
   "file_extension": ".py",
   "mimetype": "text/x-python",
   "name": "python",
   "nbconvert_exporter": "python",
   "pygments_lexer": "ipython3",
   "version": "3.12.0"
  }
 },
 "nbformat": 4,
 "nbformat_minor": 2
}
