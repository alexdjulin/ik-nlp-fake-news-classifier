{
 "cells": [
  {
   "cell_type": "markdown",
   "metadata": {},
   "source": [
    "# Data Exploration\n",
    "This notebook loads and explore the dataset"
   ]
  },
  {
   "cell_type": "markdown",
   "metadata": {},
   "source": [
    "## Imports"
   ]
  },
  {
   "cell_type": "code",
   "execution_count": null,
   "metadata": {},
   "outputs": [],
   "source": [
    "!pip install -q textblob\n",
    "!python -m textblob.download_corpora\n",
    "import nltk\n",
    "nltk.download('stopwords')"
   ]
  },
  {
   "cell_type": "code",
   "execution_count": 2,
   "metadata": {},
   "outputs": [],
   "source": [
    "import numpy as np\n",
    "import pandas as pd\n",
    "import matplotlib.pyplot as plt\n",
    "from sklearn.feature_extraction.text import TfidfVectorizer\n",
    "from random import randint\n",
    "import re\n",
    "from nltk.corpus import stopwords\n",
    "from textblob.classifiers import NaiveBayesClassifier\n",
    "from sklearn.model_selection import train_test_split\n",
    "from sklearn.feature_extraction.text import CountVectorizer\n",
    "from sklearn.naive_bayes import MultinomialNB\n",
    "from sklearn.feature_extraction.text import TfidfVectorizer\n",
    "from sklearn.metrics import accuracy_score, classification_report\n",
    "\n",
    "separator = 100 * '-'"
   ]
  },
  {
   "cell_type": "markdown",
   "metadata": {},
   "source": [
    "## Load dataset"
   ]
  },
  {
   "cell_type": "code",
   "execution_count": 3,
   "metadata": {},
   "outputs": [
    {
     "data": {
      "text/html": [
       "<div>\n",
       "<style scoped>\n",
       "    .dataframe tbody tr th:only-of-type {\n",
       "        vertical-align: middle;\n",
       "    }\n",
       "\n",
       "    .dataframe tbody tr th {\n",
       "        vertical-align: top;\n",
       "    }\n",
       "\n",
       "    .dataframe thead th {\n",
       "        text-align: right;\n",
       "    }\n",
       "</style>\n",
       "<table border=\"1\" class=\"dataframe\">\n",
       "  <thead>\n",
       "    <tr style=\"text-align: right;\">\n",
       "      <th></th>\n",
       "      <th>text</th>\n",
       "      <th>label</th>\n",
       "    </tr>\n",
       "  </thead>\n",
       "  <tbody>\n",
       "    <tr>\n",
       "      <th>0</th>\n",
       "      <td>Cuando conocí a Janice en 2013 , una familia n...</td>\n",
       "      <td>1</td>\n",
       "    </tr>\n",
       "    <tr>\n",
       "      <th>1</th>\n",
       "      <td>Hwang habló en Sur de este año por Southwest M...</td>\n",
       "      <td>0</td>\n",
       "    </tr>\n",
       "    <tr>\n",
       "      <th>2</th>\n",
       "      <td>Usted podría pensar Katy Perry y Robert Pattin...</td>\n",
       "      <td>1</td>\n",
       "    </tr>\n",
       "    <tr>\n",
       "      <th>3</th>\n",
       "      <td>Cualquiera que haya volado los cielos del crea...</td>\n",
       "      <td>1</td>\n",
       "    </tr>\n",
       "    <tr>\n",
       "      <th>4</th>\n",
       "      <td>Bueno , este cantante tendrá un LARGO tiempo p...</td>\n",
       "      <td>1</td>\n",
       "    </tr>\n",
       "    <tr>\n",
       "      <th>5</th>\n",
       "      <td>Ya en octubre de 1940 , se registra , Hergé re...</td>\n",
       "      <td>0</td>\n",
       "    </tr>\n",
       "    <tr>\n",
       "      <th>6</th>\n",
       "      <td>Yo no creo que debamos seguir viéndonos  es b...</td>\n",
       "      <td>0</td>\n",
       "    </tr>\n",
       "    <tr>\n",
       "      <th>7</th>\n",
       "      <td>Joe y Teresa Giudice están en peligro de perde...</td>\n",
       "      <td>0</td>\n",
       "    </tr>\n",
       "    <tr>\n",
       "      <th>8</th>\n",
       "      <td>Un día más tarde , historias surgieron sobre e...</td>\n",
       "      <td>0</td>\n",
       "    </tr>\n",
       "    <tr>\n",
       "      <th>9</th>\n",
       "      <td>Él viajó a Las Vegas , días después de cumplir...</td>\n",
       "      <td>0</td>\n",
       "    </tr>\n",
       "  </tbody>\n",
       "</table>\n",
       "</div>"
      ],
      "text/plain": [
       "                                                text  label\n",
       "0  Cuando conocí a Janice en 2013 , una familia n...      1\n",
       "1  Hwang habló en Sur de este año por Southwest M...      0\n",
       "2  Usted podría pensar Katy Perry y Robert Pattin...      1\n",
       "3  Cualquiera que haya volado los cielos del crea...      1\n",
       "4  Bueno , este cantante tendrá un LARGO tiempo p...      1\n",
       "5  Ya en octubre de 1940 , se registra , Hergé re...      0\n",
       "6   Yo no creo que debamos seguir viéndonos  es b...      0\n",
       "7  Joe y Teresa Giudice están en peligro de perde...      0\n",
       "8  Un día más tarde , historias surgieron sobre e...      0\n",
       "9  Él viajó a Las Vegas , días después de cumplir...      0"
      ]
     },
     "execution_count": 3,
     "metadata": {},
     "output_type": "execute_result"
    }
   ],
   "source": [
    "# file_path = \"../data/TRAINING_DATA.txt\"\n",
    "file_path = \"TRAINING_DATA.txt\"\n",
    "data = pd.read_csv(file_path, sep='\\t', header=None, names=['label', 'text'])\n",
    "data = data[['text', 'label']]\n",
    "data.head(10)\n"
   ]
  },
  {
   "cell_type": "code",
   "execution_count": 4,
   "metadata": {},
   "outputs": [
    {
     "name": "stdout",
     "output_type": "stream",
     "text": [
      "----------------------------------------------------------------------------------------------------\n",
      "[1904] Ver El Teen Mom Cuelgue Con Su Hija y fiesta con sus amigas AQUÍ ! --> 0\n",
      "----------------------------------------------------------------------------------------------------\n"
     ]
    }
   ],
   "source": [
    "X = data[\"text\"]\n",
    "y = data[\"label\"]\n",
    "\n",
    "def print_text(feature, label, idx=None):\n",
    "    try:\n",
    "        print(separator)\n",
    "        if idx is None:\n",
    "            idx = randint(0, feature.shape[0])\n",
    "        print(f\"[{idx}]\", feature[idx], \"-->\", label[idx])\n",
    "        print(separator)\n",
    "    except:\n",
    "        print(\"Can't print email contents.\")\n",
    "\n",
    "print_text(X, y)"
   ]
  },
  {
   "cell_type": "markdown",
   "metadata": {},
   "source": [
    "## Cleaning/Preprocessing dataset"
   ]
  },
  {
   "cell_type": "code",
   "execution_count": 5,
   "metadata": {},
   "outputs": [
    {
     "name": "stdout",
     "output_type": "stream",
     "text": [
      "----------------------------------------------------------------------------------------------------\n",
      "[11374] Eso es algo que quiero decir muy bruscamente justo al principio . --> 1\n",
      "----------------------------------------------------------------------------------------------------\n",
      "----------------------------------------------------------------------------------------------------\n",
      "[11374] eso es algo que quiero decir muy bruscamente justo al principio --> 1\n",
      "----------------------------------------------------------------------------------------------------\n"
     ]
    }
   ],
   "source": [
    "def clean_text(text):\n",
    "\n",
    "    # Remove special characters\n",
    "    text = re.sub(r'[^A-Za-zÁÉÍÓÚáéíóúÑñ\\s]', '', text)\n",
    "\n",
    "    # Remove numbers\n",
    "    text = re.sub(r'\\d+', '', text)\n",
    "\n",
    "    # Substitute multiple spaces with single space\n",
    "    text = re.sub(r'\\s+', ' ', text)\n",
    "\n",
    "    # Convert to lowercase\n",
    "    text = text.lower().strip()\n",
    "\n",
    "    return text\n",
    "\n",
    "# apply cleaning\n",
    "X_clean = X.apply(clean_text)\n",
    "\n",
    "idx = randint(0, len(X))\n",
    "print_text(X, y, idx)\n",
    "print_text(X_clean, y, idx)\n",
    "\n",
    "    "
   ]
  },
  {
   "cell_type": "markdown",
   "metadata": {},
   "source": [
    "## Remove Stopwords"
   ]
  },
  {
   "cell_type": "code",
   "execution_count": 6,
   "metadata": {},
   "outputs": [
    {
     "name": "stdout",
     "output_type": "stream",
     "text": [
      "313 spanish stopwords\n",
      "----------------------------------------------------------------------------------------------------\n",
      "[9250] En las palabras inmortales del patriota escocés Mel Gibson , \" usted puede tomar sus vidas , pero nunca tomar sus pompones ! --> 1\n",
      "----------------------------------------------------------------------------------------------------\n",
      "----------------------------------------------------------------------------------------------------\n",
      "[9250] palabras inmortales patriota escocés mel gibson usted puede tomar vidas nunca tomar pompones --> 1\n",
      "----------------------------------------------------------------------------------------------------\n"
     ]
    }
   ],
   "source": [
    "stopwords_sp = stopwords.words(\"spanish\")\n",
    "print(len(stopwords_sp), \"spanish stopwords\")  # 313 stopwords for the spanish language\n",
    "\n",
    "def remove_stopwords(text):\n",
    "\n",
    "    # tokenize the text by splitting on spaces\n",
    "    tokens = text.split()\n",
    "    tokens = [word for word in tokens if word not in stopwords_sp]\n",
    "    return ' '.join(tokens)\n",
    "\n",
    "# apply removing stopwords\n",
    "X_clean = X_clean.apply(remove_stopwords)\n",
    "\n",
    "# check results\n",
    "idx = randint(0, len(X))\n",
    "print_text(X, y, idx)\n",
    "print_text(X_clean, y, idx)\n"
   ]
  },
  {
   "cell_type": "markdown",
   "metadata": {},
   "source": [
    "## Split Dataset"
   ]
  },
  {
   "cell_type": "code",
   "execution_count": 7,
   "metadata": {},
   "outputs": [
    {
     "name": "stdout",
     "output_type": "stream",
     "text": [
      "(10446,) (10446,)\n",
      "(4478,) (4478,)\n"
     ]
    }
   ],
   "source": [
    "X_train, X_test, y_train, y_test = train_test_split(X_clean, y, test_size=0.3, random_state=42, stratify=data['label'])\n",
    "\n",
    "# reset indexes\n",
    "X_train = X_train.reset_index(drop=True)\n",
    "y_train = y_train.reset_index(drop=True)\n",
    "X_test = X_test.reset_index(drop=True)\n",
    "y_test = y_test.reset_index(drop=True)\n",
    "\n",
    "# print shapes\n",
    "print(X_train.shape, y_train.shape)\n",
    "print(X_test.shape, y_test.shape)"
   ]
  }
 ],
 "metadata": {
  "kernelspec": {
   "display_name": "Python 3 (ipykernel)",
   "language": "python",
   "name": "python3"
  },
  "language_info": {
   "codemirror_mode": {
    "name": "ipython",
    "version": 3
   },
   "file_extension": ".py",
   "mimetype": "text/x-python",
   "name": "python",
   "nbconvert_exporter": "python",
   "pygments_lexer": "ipython3",
   "version": "3.12.0"
  }
 },
 "nbformat": 4,
 "nbformat_minor": 2
}
